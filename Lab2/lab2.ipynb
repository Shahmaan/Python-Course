{
 "cells": [
  {
   "cell_type": "markdown",
   "metadata": {},
   "source": [
    "## Content\n",
    "- input and print\n",
    "- list\n",
    "- tuples\n",
    "- dict\n",
    "- if-else statements\n",
    "- for-each loop\n",
    "- for range loop\n",
    "- while loops\n",
    "- operators\n",
    "- try-except statements \n"
   ]
  },
  {
   "cell_type": "markdown",
   "metadata": {},
   "source": [
    "### Input and print\n",
    "To get input from the user. Note that you write the input in the header of VSC followed by return."
   ]
  },
  {
   "cell_type": "code",
   "execution_count": 16,
   "metadata": {},
   "outputs": [
    {
     "name": "stdout",
     "output_type": "stream",
     "text": [
      "My name is Eva and I am 30 years old\n"
     ]
    }
   ],
   "source": [
    "name = \"Eva\"\n",
    "age = 30\n",
    "print(f\"My name is {name} and I am {age} years old\")"
   ]
  },
  {
   "cell_type": "code",
   "execution_count": null,
   "metadata": {},
   "outputs": [
    {
     "name": "stdout",
     "output_type": "stream",
     "text": [
      "Enter your name:\n",
      "Hello, \n"
     ]
    }
   ],
   "source": [
    "print('Enter your name:')\n",
    "x = input()\n",
    "print('Hello, ' + x)"
   ]
  },
  {
   "cell_type": "markdown",
   "metadata": {},
   "source": [
    "### List\n",
    "Now we would like to save several variables together, in a list. Lists are good for many cases, let's start with the heights of 7 persons.\n",
    "NOTE that we should always use variable names that describe the variable - otherwise reading the code gets harder"
   ]
  },
  {
   "cell_type": "code",
   "execution_count": null,
   "metadata": {},
   "outputs": [],
   "source": [
    "\n",
    "heights = [1.78, 1.65, 1.55, 1.89, 1.73, 1.91, 1.95]"
   ]
  },
  {
   "cell_type": "code",
   "execution_count": null,
   "metadata": {},
   "outputs": [
    {
     "data": {
      "text/plain": [
       "7"
      ]
     },
     "metadata": {},
     "output_type": "display_data"
    }
   ],
   "source": [
    "# There are some basic operations we can do on a list, for example get the number of entries in it:\n",
    "heights_len = len(heights)\n",
    "heights_len"
   ]
  },
  {
   "cell_type": "code",
   "execution_count": null,
   "metadata": {},
   "outputs": [
    {
     "ename": "IndexError",
     "evalue": "list index out of range",
     "output_type": "error",
     "traceback": [
      "\u001b[0;31m---------------------------------------------------------------------------\u001b[0m\n",
      "\u001b[0;31mIndexError\u001b[0m                                Traceback (most recent call last)\n",
      "\u001b[0;32m/var/folders/82/t5bg_f9n6k9_ytn11s_ych740000gn/T/ipykernel_8648/3564704447.py\u001b[0m in \u001b[0;36m<module>\u001b[0;34m\u001b[0m\n",
      "\u001b[1;32m      1\u001b[0m \u001b[0;31m# We can also pick out certain entries to use\u001b[0m\u001b[0;34m\u001b[0m\u001b[0;34m\u001b[0m\u001b[0m\n",
      "\u001b[0;32m----> 2\u001b[0;31m \u001b[0mlast_height\u001b[0m \u001b[0;34m=\u001b[0m \u001b[0mheights\u001b[0m\u001b[0;34m[\u001b[0m\u001b[0;36m7\u001b[0m\u001b[0;34m]\u001b[0m\u001b[0;34m\u001b[0m\u001b[0;34m\u001b[0m\u001b[0m\n",
      "\u001b[0m\n",
      "\u001b[0;31mIndexError\u001b[0m: list index out of range"
     ]
    }
   ],
   "source": [
    "# We can also pick out certain entries to use\n",
    "last_height = heights[7]"
   ]
  },
  {
   "cell_type": "code",
   "execution_count": null,
   "metadata": {},
   "outputs": [],
   "source": [
    "# This is because index starts at 0!!\n",
    "last_height = heights[6]\n",
    "last_height = heights[-1]"
   ]
  },
  {
   "cell_type": "code",
   "execution_count": null,
   "metadata": {},
   "outputs": [
    {
     "data": {
      "text/plain": [
       "1.7799999999999998"
      ]
     },
     "metadata": {},
     "output_type": "display_data"
    }
   ],
   "source": [
    "# Say that we would like to get the mean value of the heights - we can use functions from a helper package called Numpy. Numpy will soon be your best friend, it has a lot of nice features and functions!\n",
    "import numpy as np\n",
    "mean_value_heights = np.mean(heights)\n",
    "mean_value_heights"
   ]
  },
  {
   "cell_type": "code",
   "execution_count": null,
   "metadata": {},
   "outputs": [
    {
     "name": "stdout",
     "output_type": "stream",
     "text": [
      "[1.78, 1.65, 1.55, 1.89, 1.73, 1.91, 1.95]\n",
      "[1.65, 1.55, 1.89, 1.73, 1.91, 1.95]\n",
      "[1.65, 1.55, 1.89, 1.73, 1.91, 1.95, 1.99]\n",
      "1.81\n"
     ]
    }
   ],
   "source": [
    "# What if we remove one value and add another? How will that affect the mean value?\n",
    "print(heights)\n",
    "\n",
    "heights.remove(1.78) # We remove the entry where the value corresponds to 1.78\n",
    "print(heights)\n",
    "\n",
    "heights.append(1.99) # We add 1.99 to the end of the list\n",
    "print(heights)\n",
    "\n",
    "updated_mean_value = np.mean(heights) # And find the new mean value\n",
    "print(updated_mean_value)"
   ]
  },
  {
   "cell_type": "markdown",
   "metadata": {},
   "source": [
    "### Recap:\n",
    "- Lists are great when we want to structure our data points in an easily managable way\n",
    "- One list value is called a _list entry_\n",
    "- In Python, lists can be comprised of several data types - it is possible to have a list with both strings, integers, lists, tuples as entries\n",
    "- Index starts at 0\n",
    "- Lists can be changed - they are muteable"
   ]
  },
  {
   "cell_type": "markdown",
   "metadata": {},
   "source": [
    "### Touples\n",
    "Sometimes it can come in handy to save data in what we call tuples, where we want to pair certain data points together and when we are sure that we will not need to alter them.\n",
    "Tuples are immutable lists, often with length 2 (although we can make them as long as we wish)"
   ]
  },
  {
   "cell_type": "code",
   "execution_count": null,
   "metadata": {},
   "outputs": [],
   "source": [
    "\n",
    "class_heights = [(\"person1\", 1.78), (\"person2\", 1.65), (\"person3\", 1.55), (\"person4\", 1.89)]"
   ]
  },
  {
   "cell_type": "code",
   "execution_count": null,
   "metadata": {},
   "outputs": [
    {
     "data": {
      "text/plain": [
       "('person1', 1.78)"
      ]
     },
     "metadata": {},
     "output_type": "display_data"
    }
   ],
   "source": [
    "class_heights[0]"
   ]
  },
  {
   "cell_type": "code",
   "execution_count": null,
   "metadata": {},
   "outputs": [
    {
     "data": {
      "text/plain": [
       "'person1'"
      ]
     },
     "metadata": {},
     "output_type": "display_data"
    }
   ],
   "source": [
    "class_heights[0][0]"
   ]
  },
  {
   "cell_type": "code",
   "execution_count": null,
   "metadata": {},
   "outputs": [
    {
     "data": {
      "text/plain": [
       "1.78"
      ]
     },
     "metadata": {},
     "output_type": "display_data"
    }
   ],
   "source": [
    "class_heights[0][1]"
   ]
  },
  {
   "cell_type": "markdown",
   "metadata": {},
   "source": [
    "### Dictionary\n",
    "Another, similar data type is dictionary. We use dictionaries when we want to pair information in a way that makes it easily found! Just like a dictionary, we can find information by looking it up."
   ]
  },
  {
   "cell_type": "code",
   "execution_count": null,
   "metadata": {},
   "outputs": [
    {
     "data": {
      "text/plain": [
       "1.78"
      ]
     },
     "metadata": {},
     "output_type": "display_data"
    }
   ],
   "source": [
    "\n",
    "class_heights = {\"person1\": 1.78, \"person2\": 1.65, \"person3\": 1.55, \"person4\": 1.89}\n",
    "class_heights[\"person1\"]"
   ]
  },
  {
   "cell_type": "code",
   "execution_count": null,
   "metadata": {},
   "outputs": [
    {
     "data": {
      "text/plain": [
       "dict_items([('person1', 1.78), ('person2', 1.65), ('person3', 1.55), ('person4', 1.89)])"
      ]
     },
     "metadata": {},
     "output_type": "display_data"
    }
   ],
   "source": [
    "class_heights.items()"
   ]
  },
  {
   "cell_type": "code",
   "execution_count": null,
   "metadata": {},
   "outputs": [
    {
     "data": {
      "text/plain": [
       "dict_keys(['person1', 'person2', 'person3', 'person4'])"
      ]
     },
     "metadata": {},
     "output_type": "display_data"
    }
   ],
   "source": [
    "class_heights.keys()"
   ]
  },
  {
   "cell_type": "code",
   "execution_count": null,
   "metadata": {},
   "outputs": [
    {
     "data": {
      "text/plain": [
       "dict_values([1.78, 1.65, 1.55, 1.89])"
      ]
     },
     "metadata": {},
     "output_type": "display_data"
    }
   ],
   "source": [
    "class_heights.values()"
   ]
  },
  {
   "cell_type": "code",
   "execution_count": null,
   "metadata": {},
   "outputs": [],
   "source": [
    "class_heights[\"person5\"] = 1.77"
   ]
  },
  {
   "cell_type": "markdown",
   "metadata": {},
   "source": [
    "### Array and list"
   ]
  },
  {
   "cell_type": "code",
   "execution_count": null,
   "metadata": {},
   "outputs": [],
   "source": [
    "import numpy as np\n",
    "# Arrays vs lists in python:\n",
    "list = [1,2,3,4, \"hej\"]\n",
    "array = np.array([1,2,3,4])"
   ]
  },
  {
   "cell_type": "markdown",
   "metadata": {},
   "source": [
    "### Recap:\n",
    "- Tuples can be seen as a type of list, that are usually no longer than 3 entries and that are immutable\n",
    "- Immutable means that once we have set the values, we can only access them but not change them - we would need to create new tuples to change something\n",
    "- Dictionaries are similar to lists and tuples, but instead of having to deal with indices, we can look information up in an easier way, using descriptive variables\n",
    "- In a dictionary, we use curly brackets and we call the entries key-value pairs. dict = {key: value, key: value}\n",
    "- A dictionary is unordered - the order of the items are not of importance"
   ]
  },
  {
   "cell_type": "markdown",
   "metadata": {},
   "source": [
    "### If-else statements\n",
    "Let's look a bit closer at how if-else statements work. These are conditional, and makes it possible for us to \n",
    "pick and choose items from a list, based on our condition(s)"
   ]
  },
  {
   "cell_type": "code",
   "execution_count": 2,
   "metadata": {},
   "outputs": [],
   "source": [
    "\n",
    "# We start with some lists comprised of different types of fruits and vegetables\n",
    "fruits = [\"apple\", \"banana\", \"pear\", \"dragon fruit\", \"orange\", \"tomato\"]\n",
    "vegetables = [\"cucumber\", \"green salad\", \"fennel\", \"garlic\", \"onion\", \"squash\"]"
   ]
  },
  {
   "cell_type": "code",
   "execution_count": 3,
   "metadata": {},
   "outputs": [
    {
     "name": "stdout",
     "output_type": "stream",
     "text": [
      "I don't know what pak choi is\n"
     ]
    }
   ],
   "source": [
    "# Now let's see if we can make som logic using these lists\n",
    "\n",
    "item = \"pak choi\" # <--- change to whatever you wish to test here\n",
    "if item in fruits:\n",
    "    print(item, \"is a fruit\") # <--- if the value of item is in the fruit list, we will print it as a fruit!\n",
    "elif item in vegetables:\n",
    "    print(item, \"is a vegetable\") # <---- and if it was a vegetable, we print it as a vegetable\n",
    "else:\n",
    "    print(\"I don't know what\", item, \"is\") # <---- otherwise, we do not know what it is\n",
    "\n",
    "\n",
    "# Beware to use lowercase and spaces to make the item match one of the lists - what happens if item = \"Apple\", or item = \"banana \"?"
   ]
  },
  {
   "cell_type": "markdown",
   "metadata": {},
   "source": [
    "### For-each loop (+ if else)"
   ]
  },
  {
   "cell_type": "code",
   "execution_count": 6,
   "metadata": {},
   "outputs": [
    {
     "name": "stdout",
     "output_type": "stream",
     "text": [
      "3 2\n"
     ]
    }
   ],
   "source": [
    "#Now say that I have an entire list of mixed fruits and vegetables\n",
    "\n",
    "my_fridge = [\"apple\", \"tomato\", \"green salad\", \"garlic\", \"banana\"]\n",
    "\n",
    "# Let's say I'd like to know how many fruits and vegetables I have in my list my_fridge\n",
    "# I start counting at 0, and thus set 2 variables as 0:\n",
    "number_of_fruits = 0\n",
    "number_of_vegetables = 0\n",
    "\n",
    "# Now, for each item in my fridge, I will check if the item is a fruit or a vegetable, by comparing the item with the lists\n",
    "for item in my_fridge:\n",
    "     if item in fruits: # <---- if the item name is in the fruit list, I have a fruit!\n",
    "        number_of_fruits += 1 # <---- I increment the number of fruits by one. I can also write number_of_fruits = number_of_fruits + 1\n",
    "    elif item in vegetables: # <----- if the item was not in the fruit list, but in the vegetable list, I have a vegetable\n",
    "        number_of_vegetables += 1 # <---- and that makes me increment the number of vegetables\n",
    "\n",
    "print(number_of_fruits, number_of_vegetables)"
   ]
  },
  {
   "cell_type": "code",
   "execution_count": 7,
   "metadata": {},
   "outputs": [
    {
     "name": "stdout",
     "output_type": "stream",
     "text": [
      "3 2\n"
     ]
    }
   ],
   "source": [
    "# Oop! Something was wrong with the indentations in my block. Remember that each indentation should be comprised of exactly 4 spaces! Make sure it is correct:\n",
    "number_of_fruits = 0\n",
    "number_of_vegetables = 0\n",
    "for item in my_fridge:\n",
    "    if item in fruits:\n",
    "        number_of_fruits += 1\n",
    "    elif item in vegetables:\n",
    "        number_of_vegetables += 1\n",
    "\n",
    "print(number_of_fruits, number_of_vegetables)"
   ]
  },
  {
   "cell_type": "markdown",
   "metadata": {},
   "source": [
    "### For-range loop"
   ]
  },
  {
   "cell_type": "code",
   "execution_count": 8,
   "metadata": {},
   "outputs": [
    {
     "name": "stdout",
     "output_type": "stream",
     "text": [
      "0\n",
      "1\n",
      "2\n",
      "3\n",
      "4\n",
      "5\n",
      "6\n",
      "7\n",
      "8\n",
      "9\n"
     ]
    }
   ],
   "source": [
    "# Let's look at another type of for-loop\n",
    "for i in range(10):\n",
    "    print(i)"
   ]
  },
  {
   "cell_type": "code",
   "execution_count": 9,
   "metadata": {},
   "outputs": [
    {
     "name": "stdout",
     "output_type": "stream",
     "text": [
      "not yet\n",
      "not yet\n",
      "not yet\n",
      "not yet\n",
      "not yet\n",
      "not yet\n",
      "not yet\n",
      "NOW\n",
      "too late\n",
      "too late\n",
      "too late\n",
      "too late\n",
      "too late\n",
      "too late\n",
      "too late\n"
     ]
    }
   ],
   "source": [
    "# Yet again we start at 0 and end at 9! Just like when we were working with the indices of the lists\n",
    "x = 7\n",
    "for i in range(15):\n",
    "    if i < x:\n",
    "        print(\"not yet\")\n",
    "    elif i == x:\n",
    "        print(\"NOW\")\n",
    "    elif i > x:\n",
    "        print(\"too late\")\n",
    "    else:\n",
    "        print(\"this should not be possible\")"
   ]
  },
  {
   "cell_type": "markdown",
   "metadata": {},
   "source": [
    "That the range()-function starts at 0 makes it easy for us to iterate over lists using the indices instead of the items.\n",
    "These two for-loops are equivalent. Depending on what you wish to do with your list, you may need to keep track of the index as well as the list entry - that is\n",
    "when you use \"for i in range(number)\". When you only need to access and modify the entries, you can use the for-each loop \"for x in list_name\""
   ]
  },
  {
   "cell_type": "code",
   "execution_count": 33,
   "metadata": {},
   "outputs": [
    {
     "name": "stdout",
     "output_type": "stream",
     "text": [
      "5\n",
      "apple\n",
      "tomato\n",
      "green salad\n",
      "garlic\n",
      "banana\n",
      "apple\n",
      "tomato\n",
      "green salad\n",
      "garlic\n",
      "banana\n"
     ]
    }
   ],
   "source": [
    "\n",
    "print(len(my_fridge))\n",
    "\n",
    "for i in range(len(my_fridge)):\n",
    "    print(my_fridge[i])\n",
    "\n",
    "for item in my_fridge:\n",
    "    print(item)"
   ]
  },
  {
   "cell_type": "markdown",
   "metadata": {},
   "source": [
    "### while-loop\n",
    "When we have something we would like to do while some condition is true, we can use a while loop.\n",
    "A while-loop will continue as long as the condition is true, so beware!"
   ]
  },
  {
   "cell_type": "code",
   "execution_count": 36,
   "metadata": {},
   "outputs": [
    {
     "name": "stdout",
     "output_type": "stream",
     "text": [
      "1\n",
      "2\n"
     ]
    }
   ],
   "source": [
    "\n",
    "i = 1\n",
    "while i < 6:\n",
    "  print(i)\n",
    "  if i == 4:\n",
    "    break\n",
    "  i += 1\n",
    "\n",
    "# Fortunately, we can use the break statement in case there are some special conditions that should break it!"
   ]
  },
  {
   "cell_type": "markdown",
   "metadata": {},
   "source": [
    "### Operators\n",
    "To make more intricate conditions, we can use different operators.\n",
    "Here are some examples of how we can compare different items using different operators"
   ]
  },
  {
   "cell_type": "code",
   "execution_count": 65,
   "metadata": {},
   "outputs": [],
   "source": [
    "a = 5\n",
    "b = 4\n",
    "c = 5"
   ]
  },
  {
   "cell_type": "code",
   "execution_count": 45,
   "metadata": {},
   "outputs": [
    {
     "name": "stdout",
     "output_type": "stream",
     "text": [
      "False\n",
      "True\n",
      "False\n",
      "True\n",
      "True\n",
      "True\n",
      "False\n"
     ]
    }
   ],
   "source": [
    "print(a == b) # == is equal to\n",
    "print(a == c)\n",
    "print(a < b) # a is smaller than (less than) b\n",
    "print(a > b) # a is bigger than (greater than) b\n",
    "print(a >= b) # a is bigger than, or equal to, b\n",
    "print(a >= c) # a is bigger than, or equal to, c\n",
    "print(c <= b) # c is smaller than, or equal to, b"
   ]
  },
  {
   "cell_type": "code",
   "execution_count": 73,
   "metadata": {},
   "outputs": [
    {
     "name": "stdout",
     "output_type": "stream",
     "text": [
      "hooray\n",
      "hooray!\n"
     ]
    }
   ],
   "source": [
    "# And these operators we can use, together with the words \"and\", \"or\" and \"not\", to chain together several conditions\n",
    "a = 15\n",
    "b = 14\n",
    "if a > 10 and b < 20:\n",
    "    print(\"hooray\")\n",
    "\n",
    "if a > 10 and not b < 20:\n",
    "    print(\"hello\")\n",
    "\n",
    "if a < 10 or b > 10:\n",
    "    print(\"hooray!\")"
   ]
  },
  {
   "cell_type": "code",
   "execution_count": 11,
   "metadata": {},
   "outputs": [
    {
     "data": {
      "text/plain": [
       "True"
      ]
     },
     "execution_count": 11,
     "metadata": {},
     "output_type": "execute_result"
    }
   ],
   "source": [
    "# We can use the word \"in\" to see if an element is in a list or not\n",
    "1 in [1,2,3]"
   ]
  },
  {
   "cell_type": "code",
   "execution_count": 12,
   "metadata": {},
   "outputs": [
    {
     "name": "stdout",
     "output_type": "stream",
     "text": [
      "True\n",
      "False\n"
     ]
    }
   ],
   "source": [
    "# And speaking of comparing lists... here is a special case of comparing lists:\n",
    "a = [4, 5, 6]\n",
    "b = [4, 5, 6]\n",
    "print(a == b) # <---- this means that the values in the lists are identical\n",
    "print(a is b) # <--- this essentially means that they are not the same list, even though they look the same"
   ]
  },
  {
   "cell_type": "code",
   "execution_count": 13,
   "metadata": {},
   "outputs": [
    {
     "name": "stdout",
     "output_type": "stream",
     "text": [
      "True\n",
      "True\n"
     ]
    }
   ],
   "source": [
    "a  = [1, 2, 3]\n",
    "b = a\n",
    "print(a == b)\n",
    "print(a is b) # <--- now they are the same list! since b is pointing to a, they are the same object"
   ]
  },
  {
   "cell_type": "markdown",
   "metadata": {},
   "source": [
    "### Try-except\n",
    "Let's say that we are cleaning up some data for it to be used in analysis later on. We start by casting all points to ints\n",
    "For the sake of the argument, we pretend that this list is so long that we cannot manually go through all elements"
   ]
  },
  {
   "cell_type": "code",
   "execution_count": 14,
   "metadata": {},
   "outputs": [
    {
     "ename": "ValueError",
     "evalue": "invalid literal for int() with base 10: 'a'",
     "output_type": "error",
     "traceback": [
      "\u001b[0;31m---------------------------------------------------------------------------\u001b[0m",
      "\u001b[0;31mValueError\u001b[0m                                Traceback (most recent call last)",
      "\u001b[0;32m/var/folders/82/t5bg_f9n6k9_ytn11s_ych740000gn/T/ipykernel_12910/1866239148.py\u001b[0m in \u001b[0;36m<module>\u001b[0;34m\u001b[0m\n\u001b[1;32m      3\u001b[0m \u001b[0mcleaned_list_of_ints\u001b[0m \u001b[0;34m=\u001b[0m \u001b[0;34m[\u001b[0m\u001b[0;34m]\u001b[0m\u001b[0;34m\u001b[0m\u001b[0;34m\u001b[0m\u001b[0m\n\u001b[1;32m      4\u001b[0m \u001b[0;32mfor\u001b[0m \u001b[0mentry\u001b[0m \u001b[0;32min\u001b[0m \u001b[0mcorrupted_list_of_ints\u001b[0m\u001b[0;34m:\u001b[0m\u001b[0;34m\u001b[0m\u001b[0;34m\u001b[0m\u001b[0m\n\u001b[0;32m----> 5\u001b[0;31m     \u001b[0mcleaned_entry\u001b[0m \u001b[0;34m=\u001b[0m \u001b[0mint\u001b[0m\u001b[0;34m(\u001b[0m\u001b[0mentry\u001b[0m\u001b[0;34m)\u001b[0m\u001b[0;34m\u001b[0m\u001b[0;34m\u001b[0m\u001b[0m\n\u001b[0m\u001b[1;32m      6\u001b[0m     \u001b[0mcleaned_list_of_ints\u001b[0m\u001b[0;34m.\u001b[0m\u001b[0mappend\u001b[0m\u001b[0;34m(\u001b[0m\u001b[0mcleaned_entry\u001b[0m\u001b[0;34m)\u001b[0m\u001b[0;34m\u001b[0m\u001b[0;34m\u001b[0m\u001b[0m\n\u001b[1;32m      7\u001b[0m \u001b[0;31m# hmmmmmmm that did not work as we thought - we cannot cast a letter to an int!\u001b[0m\u001b[0;34m\u001b[0m\u001b[0;34m\u001b[0m\u001b[0m\n",
      "\u001b[0;31mValueError\u001b[0m: invalid literal for int() with base 10: 'a'"
     ]
    }
   ],
   "source": [
    "corrupted_list_of_ints = [\"1\", \"2\", \"a\", \"3\"]\n",
    "\n",
    "cleaned_list_of_ints = []\n",
    "for entry in corrupted_list_of_ints:\n",
    "    cleaned_entry = int(entry)\n",
    "    cleaned_list_of_ints.append(cleaned_entry)\n",
    "# hmmmmmmm that did not work as we thought - we cannot cast a letter to an int!"
   ]
  },
  {
   "cell_type": "code",
   "execution_count": 15,
   "metadata": {},
   "outputs": [
    {
     "name": "stdout",
     "output_type": "stream",
     "text": [
      "faulty value encountered - ignoring and continuing\n",
      "[1, 2, 3]\n"
     ]
    }
   ],
   "source": [
    "# that means that we need to handle our error, and we do that by using a try-except statement:\n",
    "\n",
    "corrupted_list_of_ints = [\"1\", \"2\", \"a\", \"3\"]\n",
    "cleaned_list_of_ints = []\n",
    "for entry in corrupted_list_of_ints:\n",
    "    try:\n",
    "        cleaned_entry = int(entry)\n",
    "        cleaned_list_of_ints.append(cleaned_entry)\n",
    "    except ValueError: # <--- always specify the error that you are catching, otherwise you may catch another error and by doing that you hide bugs from yourself!\n",
    "        print(\"faulty value encountered - ignoring and continuing\")\n",
    "\n",
    "\n",
    "print(cleaned_list_of_ints)"
   ]
  },
  {
   "cell_type": "code",
   "execution_count": null,
   "metadata": {},
   "outputs": [],
   "source": []
  }
 ],
 "metadata": {
  "interpreter": {
   "hash": "49725ab178c4c102e1441d76205f429a43d78f45cae77ce22318dfb9d7e7bd6b"
  },
  "kernelspec": {
   "display_name": "Python 3.8.10 64-bit ('ec-python-course': conda)",
   "name": "python3"
  },
  "language_info": {
   "codemirror_mode": {
    "name": "ipython",
    "version": 3
   },
   "file_extension": ".py",
   "mimetype": "text/x-python",
   "name": "python",
   "nbconvert_exporter": "python",
   "pygments_lexer": "ipython3",
   "version": "3.9.7"
  },
  "orig_nbformat": 4
 },
 "nbformat": 4,
 "nbformat_minor": 2
}
